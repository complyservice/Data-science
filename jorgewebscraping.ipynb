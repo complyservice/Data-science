{
  "nbformat": 4,
  "nbformat_minor": 0,
  "metadata": {
    "colab": {
      "name": "jorgewebscraping.ipynb",
      "provenance": [],
      "authorship_tag": "ABX9TyNBJK6hPqykLdQISqVh20W/",
      "include_colab_link": true
    },
    "kernelspec": {
      "name": "python3",
      "display_name": "Python 3"
    }
  },
  "cells": [
    {
      "cell_type": "markdown",
      "metadata": {
        "id": "view-in-github",
        "colab_type": "text"
      },
      "source": [
        "<a href=\"https://colab.research.google.com/github/complyservice/Data-science/blob/main/jorgewebscraping.ipynb\" target=\"_parent\"><img src=\"https://colab.research.google.com/assets/colab-badge.svg\" alt=\"Open In Colab\"/></a>"
      ]
    },
    {
      "cell_type": "code",
      "metadata": {
        "id": "quvjMbKlAIqU"
      },
      "source": [
        "import requests\n",
        "from bs4 import BeautifulSoup"
      ],
      "execution_count": null,
      "outputs": []
    },
    {
      "cell_type": "code",
      "metadata": {
        "id": "sjGMvQplBb-9"
      },
      "source": [
        "url = 'https://www.akkiatacadista.com.br/'"
      ],
      "execution_count": null,
      "outputs": []
    },
    {
      "cell_type": "code",
      "metadata": {
        "colab": {
          "base_uri": "https://localhost:8080/"
        },
        "id": "yAJH2epnD-PX",
        "outputId": "f8d767ef-f3ad-4f1b-c7a3-bc865f697594"
      },
      "source": [
        "page = requests.get(url)\n",
        "print(page)"
      ],
      "execution_count": null,
      "outputs": [
        {
          "output_type": "stream",
          "text": [
            "<Response [200]>\n"
          ],
          "name": "stdout"
        }
      ]
    },
    {
      "cell_type": "code",
      "metadata": {
        "id": "U6L1-6NQEXIv"
      },
      "source": [
        "bs = BeautifulSoup(page.text, 'html.parser')"
      ],
      "execution_count": null,
      "outputs": []
    },
    {
      "cell_type": "code",
      "metadata": {
        "colab": {
          "base_uri": "https://localhost:8080/"
        },
        "id": "8wE9frXYEvsA",
        "outputId": "cccffafe-9e0c-43cc-bd38-502b40864e4d"
      },
      "source": [
        "titulo = bs.find_all('h2')\n",
        "titulo = titulo[0].get_text()\n",
        "print(f'Titulo:{titulo}')"
      ],
      "execution_count": null,
      "outputs": [
        {
          "output_type": "stream",
          "text": [
            "Titulo:Comerciantes Amigos (Vantagens)\n"
          ],
          "name": "stdout"
        }
      ]
    },
    {
      "cell_type": "code",
      "metadata": {
        "id": "gaC8bCyoIqt0"
      },
      "source": [
        "paragrafos = bs.find_all('p')"
      ],
      "execution_count": null,
      "outputs": []
    },
    {
      "cell_type": "code",
      "metadata": {
        "colab": {
          "base_uri": "https://localhost:8080/"
        },
        "id": "ORZ4EwOwJOx9",
        "outputId": "db98c78e-c4eb-4142-9bc6-b8ca862dbffc"
      },
      "source": [
        "paragrafos = [paragrafos[i].get_text() for i in range(0,10)]\n",
        "print(paragrafos)"
      ],
      "execution_count": null,
      "outputs": [
        {
          "output_type": "stream",
          "text": [
            "['Comerciantes tenham muito mais vantagens em suas compras!\\nPara mais informações preencha o formulário ao lado e entraremos em contato.', '', '\\xa0', ' Ótimas localizações, estacionamento amplo, preços muito baixo, atendimento da melhor qualidade!', 'Sabor de Lua', ' Realizo as compras do mês da minha familia no Akkí Atacadista, compra em pouca quantidade com preço de atacado.', '', ' Ótimo atendimento, preços\\xa0acessíveis, O Akkí Atacadista e um grande parceiro do meu comercio!', 'Restaurante Sabor da Mama', '']\n"
          ],
          "name": "stdout"
        }
      ]
    },
    {
      "cell_type": "code",
      "metadata": {
        "id": "JAROlGCvMiBf"
      },
      "source": [
        "texto = ''.join([paragrafo\n",
        "                 for paragrafo in paragrafos])"
      ],
      "execution_count": null,
      "outputs": []
    },
    {
      "cell_type": "code",
      "metadata": {
        "colab": {
          "base_uri": "https://localhost:8080/"
        },
        "id": "eCtBJZXxNO_S",
        "outputId": "cfa1d9fc-790c-428a-d520-2ac922277511"
      },
      "source": [
        "print(texto)"
      ],
      "execution_count": null,
      "outputs": [
        {
          "output_type": "stream",
          "text": [
            "Comerciantes tenham muito mais vantagens em suas compras!\n",
            "Para mais informações preencha o formulário ao lado e entraremos em contato.  Ótimas localizações, estacionamento amplo, preços muito baixo, atendimento da melhor qualidade!Sabor de Lua Realizo as compras do mês da minha familia no Akkí Atacadista, compra em pouca quantidade com preço de atacado. Ótimo atendimento, preços acessíveis, O Akkí Atacadista e um grande parceiro do meu comercio!Restaurante Sabor da Mama\n"
          ],
          "name": "stdout"
        }
      ]
    }
  ]
}