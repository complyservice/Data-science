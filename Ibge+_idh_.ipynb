{
  "nbformat": 4,
  "nbformat_minor": 0,
  "metadata": {
    "colab": {
      "name": "Ibge+ idh .ipynb",
      "provenance": [],
      "authorship_tag": "ABX9TyPAVn2FwlhwtJpwSIH7tCLy",
      "include_colab_link": true
    },
    "kernelspec": {
      "name": "python3",
      "display_name": "Python 3"
    },
    "language_info": {
      "name": "python"
    }
  },
  "cells": [
    {
      "cell_type": "markdown",
      "metadata": {
        "id": "view-in-github",
        "colab_type": "text"
      },
      "source": [
        "<a href=\"https://colab.research.google.com/github/complyservice/Data-science/blob/main/Ibge%2B_idh_.ipynb\" target=\"_parent\"><img src=\"https://colab.research.google.com/assets/colab-badge.svg\" alt=\"Open In Colab\"/></a>"
      ]
    },
    {
      "cell_type": "markdown",
      "metadata": {
        "id": "zfMSbt2PcHMM"
      },
      "source": [
        "Formulario de escolha do municipio"
      ]
    },
    {
      "cell_type": "code",
      "metadata": {
        "id": "DYzLyt5ihbuZ"
      },
      "source": [
        "import pandas as pd\n",
        "import random\n",
        "import requests"
      ],
      "execution_count": 30,
      "outputs": []
    },
    {
      "cell_type": "code",
      "metadata": {
        "colab": {
          "base_uri": "https://localhost:8080/"
        },
        "id": "iTYm7JUfixTX",
        "outputId": "355e8543-527d-44a6-8607-68add972ee0e"
      },
      "source": [
        "RA = 950219#@param {type:'integer'}\n",
        "random.seed(RA)\n",
        "codigo = random.randint(0,644)\n",
        "print('O codigo do municipio e ',codigo)"
      ],
      "execution_count": 31,
      "outputs": [
        {
          "output_type": "stream",
          "text": [
            "O codigo do municipio e  333\n"
          ],
          "name": "stdout"
        }
      ]
    },
    {
      "cell_type": "code",
      "metadata": {
        "colab": {
          "base_uri": "https://localhost:8080/",
          "height": 424
        },
        "id": "b5IwUOkukxfz",
        "outputId": "98a05039-7020-4d4d-e8b5-e213964e43a5"
      },
      "source": [
        "districts = requests.get(\"https://servicodados.ibge.gov.br/api/v1/localidades/estados/35/municipios\").json()\n",
        "districts_sp = [municipios[\"nome\"] for municipios in districts]\n",
        "districts_id = [municipios[\"id\"] for municipios in districts]\n",
        "data_sp = pd.DataFrame.from_dict({'ID':districts_id,'Municípios':districts_sp})\n",
        "data_sp"
      ],
      "execution_count": 32,
      "outputs": [
        {
          "output_type": "execute_result",
          "data": {
            "text/html": [
              "<div>\n",
              "<style scoped>\n",
              "    .dataframe tbody tr th:only-of-type {\n",
              "        vertical-align: middle;\n",
              "    }\n",
              "\n",
              "    .dataframe tbody tr th {\n",
              "        vertical-align: top;\n",
              "    }\n",
              "\n",
              "    .dataframe thead th {\n",
              "        text-align: right;\n",
              "    }\n",
              "</style>\n",
              "<table border=\"1\" class=\"dataframe\">\n",
              "  <thead>\n",
              "    <tr style=\"text-align: right;\">\n",
              "      <th></th>\n",
              "      <th>ID</th>\n",
              "      <th>Municípios</th>\n",
              "    </tr>\n",
              "  </thead>\n",
              "  <tbody>\n",
              "    <tr>\n",
              "      <th>0</th>\n",
              "      <td>3500105</td>\n",
              "      <td>Adamantina</td>\n",
              "    </tr>\n",
              "    <tr>\n",
              "      <th>1</th>\n",
              "      <td>3500204</td>\n",
              "      <td>Adolfo</td>\n",
              "    </tr>\n",
              "    <tr>\n",
              "      <th>2</th>\n",
              "      <td>3500303</td>\n",
              "      <td>Aguaí</td>\n",
              "    </tr>\n",
              "    <tr>\n",
              "      <th>3</th>\n",
              "      <td>3500402</td>\n",
              "      <td>Águas da Prata</td>\n",
              "    </tr>\n",
              "    <tr>\n",
              "      <th>4</th>\n",
              "      <td>3500501</td>\n",
              "      <td>Águas de Lindóia</td>\n",
              "    </tr>\n",
              "    <tr>\n",
              "      <th>...</th>\n",
              "      <td>...</td>\n",
              "      <td>...</td>\n",
              "    </tr>\n",
              "    <tr>\n",
              "      <th>640</th>\n",
              "      <td>3557006</td>\n",
              "      <td>Votorantim</td>\n",
              "    </tr>\n",
              "    <tr>\n",
              "      <th>641</th>\n",
              "      <td>3557105</td>\n",
              "      <td>Votuporanga</td>\n",
              "    </tr>\n",
              "    <tr>\n",
              "      <th>642</th>\n",
              "      <td>3557154</td>\n",
              "      <td>Zacarias</td>\n",
              "    </tr>\n",
              "    <tr>\n",
              "      <th>643</th>\n",
              "      <td>3557204</td>\n",
              "      <td>Chavantes</td>\n",
              "    </tr>\n",
              "    <tr>\n",
              "      <th>644</th>\n",
              "      <td>3557303</td>\n",
              "      <td>Estiva Gerbi</td>\n",
              "    </tr>\n",
              "  </tbody>\n",
              "</table>\n",
              "<p>645 rows × 2 columns</p>\n",
              "</div>"
            ],
            "text/plain": [
              "          ID        Municípios\n",
              "0    3500105        Adamantina\n",
              "1    3500204            Adolfo\n",
              "2    3500303             Aguaí\n",
              "3    3500402    Águas da Prata\n",
              "4    3500501  Águas de Lindóia\n",
              "..       ...               ...\n",
              "640  3557006        Votorantim\n",
              "641  3557105       Votuporanga\n",
              "642  3557154          Zacarias\n",
              "643  3557204         Chavantes\n",
              "644  3557303      Estiva Gerbi\n",
              "\n",
              "[645 rows x 2 columns]"
            ]
          },
          "metadata": {
            "tags": []
          },
          "execution_count": 32
        }
      ]
    },
    {
      "cell_type": "code",
      "metadata": {
        "colab": {
          "base_uri": "https://localhost:8080/",
          "height": 424
        },
        "id": "OLukQT6Fl72f",
        "outputId": "927126a5-7976-4bad-fece-a05143bc646b"
      },
      "source": [
        "districts_sp = [municipios['nome']for municipios in districts]\n",
        "districts_id = [municipios['id'] for municipios in districts]\n",
        "data_sp = pd.DataFrame.from_dict({'ID':districts_id,'Municipios':districts_sp})\n",
        "data_sp"
      ],
      "execution_count": 33,
      "outputs": [
        {
          "output_type": "execute_result",
          "data": {
            "text/html": [
              "<div>\n",
              "<style scoped>\n",
              "    .dataframe tbody tr th:only-of-type {\n",
              "        vertical-align: middle;\n",
              "    }\n",
              "\n",
              "    .dataframe tbody tr th {\n",
              "        vertical-align: top;\n",
              "    }\n",
              "\n",
              "    .dataframe thead th {\n",
              "        text-align: right;\n",
              "    }\n",
              "</style>\n",
              "<table border=\"1\" class=\"dataframe\">\n",
              "  <thead>\n",
              "    <tr style=\"text-align: right;\">\n",
              "      <th></th>\n",
              "      <th>ID</th>\n",
              "      <th>Municipios</th>\n",
              "    </tr>\n",
              "  </thead>\n",
              "  <tbody>\n",
              "    <tr>\n",
              "      <th>0</th>\n",
              "      <td>3500105</td>\n",
              "      <td>Adamantina</td>\n",
              "    </tr>\n",
              "    <tr>\n",
              "      <th>1</th>\n",
              "      <td>3500204</td>\n",
              "      <td>Adolfo</td>\n",
              "    </tr>\n",
              "    <tr>\n",
              "      <th>2</th>\n",
              "      <td>3500303</td>\n",
              "      <td>Aguaí</td>\n",
              "    </tr>\n",
              "    <tr>\n",
              "      <th>3</th>\n",
              "      <td>3500402</td>\n",
              "      <td>Águas da Prata</td>\n",
              "    </tr>\n",
              "    <tr>\n",
              "      <th>4</th>\n",
              "      <td>3500501</td>\n",
              "      <td>Águas de Lindóia</td>\n",
              "    </tr>\n",
              "    <tr>\n",
              "      <th>...</th>\n",
              "      <td>...</td>\n",
              "      <td>...</td>\n",
              "    </tr>\n",
              "    <tr>\n",
              "      <th>640</th>\n",
              "      <td>3557006</td>\n",
              "      <td>Votorantim</td>\n",
              "    </tr>\n",
              "    <tr>\n",
              "      <th>641</th>\n",
              "      <td>3557105</td>\n",
              "      <td>Votuporanga</td>\n",
              "    </tr>\n",
              "    <tr>\n",
              "      <th>642</th>\n",
              "      <td>3557154</td>\n",
              "      <td>Zacarias</td>\n",
              "    </tr>\n",
              "    <tr>\n",
              "      <th>643</th>\n",
              "      <td>3557204</td>\n",
              "      <td>Chavantes</td>\n",
              "    </tr>\n",
              "    <tr>\n",
              "      <th>644</th>\n",
              "      <td>3557303</td>\n",
              "      <td>Estiva Gerbi</td>\n",
              "    </tr>\n",
              "  </tbody>\n",
              "</table>\n",
              "<p>645 rows × 2 columns</p>\n",
              "</div>"
            ],
            "text/plain": [
              "          ID        Municipios\n",
              "0    3500105        Adamantina\n",
              "1    3500204            Adolfo\n",
              "2    3500303             Aguaí\n",
              "3    3500402    Águas da Prata\n",
              "4    3500501  Águas de Lindóia\n",
              "..       ...               ...\n",
              "640  3557006        Votorantim\n",
              "641  3557105       Votuporanga\n",
              "642  3557154          Zacarias\n",
              "643  3557204         Chavantes\n",
              "644  3557303      Estiva Gerbi\n",
              "\n",
              "[645 rows x 2 columns]"
            ]
          },
          "metadata": {
            "tags": []
          },
          "execution_count": 33
        }
      ]
    },
    {
      "cell_type": "code",
      "metadata": {
        "colab": {
          "base_uri": "https://localhost:8080/"
        },
        "id": "eDhPvHe6ngNY",
        "outputId": "35584113-e7f5-4e3e-f0fe-bff1064413ce"
      },
      "source": [
        "print('Municipios a ser analisado ',data_sp.iloc[codigo,:])"
      ],
      "execution_count": 34,
      "outputs": [
        {
          "output_type": "stream",
          "text": [
            "Municipios a ser analisado  ID              3529658\n",
            "Municipios    Mesópolis\n",
            "Name: 333, dtype: object\n"
          ],
          "name": "stdout"
        }
      ]
    },
    {
      "cell_type": "code",
      "metadata": {
        "colab": {
          "base_uri": "https://localhost:8080/",
          "height": 493
        },
        "id": "taBCmvosurEB",
        "outputId": "818bafd3-deda-4f26-fddb-09e69aa27206"
      },
      "source": [
        "url = \"https://www.br.undp.org/content/brazil/pt/home/idh0/rankings/idhm-municipios-2010.html\"\n",
        "d = pd.read_html(url)\n",
        "idh = d[0]\n",
        "idh "
      ],
      "execution_count": 35,
      "outputs": [
        {
          "output_type": "execute_result",
          "data": {
            "text/html": [
              "<div>\n",
              "<style scoped>\n",
              "    .dataframe tbody tr th:only-of-type {\n",
              "        vertical-align: middle;\n",
              "    }\n",
              "\n",
              "    .dataframe tbody tr th {\n",
              "        vertical-align: top;\n",
              "    }\n",
              "\n",
              "    .dataframe thead th {\n",
              "        text-align: right;\n",
              "    }\n",
              "</style>\n",
              "<table border=\"1\" class=\"dataframe\">\n",
              "  <thead>\n",
              "    <tr style=\"text-align: right;\">\n",
              "      <th></th>\n",
              "      <th>Ranking IDHM 2010</th>\n",
              "      <th>Município</th>\n",
              "      <th>IDHM 2010</th>\n",
              "      <th>IDHM Renda 2010</th>\n",
              "      <th>IDHM Longevidade 2010</th>\n",
              "      <th>IDHM Educação 2010</th>\n",
              "    </tr>\n",
              "  </thead>\n",
              "  <tbody>\n",
              "    <tr>\n",
              "      <th>0</th>\n",
              "      <td>1 º</td>\n",
              "      <td>São Caetano do Sul (SP)</td>\n",
              "      <td>862</td>\n",
              "      <td>0891</td>\n",
              "      <td>0887</td>\n",
              "      <td>811</td>\n",
              "    </tr>\n",
              "    <tr>\n",
              "      <th>1</th>\n",
              "      <td>2 º</td>\n",
              "      <td>Águas de São Pedro (SP)</td>\n",
              "      <td>854</td>\n",
              "      <td>0849</td>\n",
              "      <td>0890</td>\n",
              "      <td>825</td>\n",
              "    </tr>\n",
              "    <tr>\n",
              "      <th>2</th>\n",
              "      <td>3 º</td>\n",
              "      <td>Florianópolis (SC)</td>\n",
              "      <td>847</td>\n",
              "      <td>0870</td>\n",
              "      <td>0873</td>\n",
              "      <td>800</td>\n",
              "    </tr>\n",
              "    <tr>\n",
              "      <th>3</th>\n",
              "      <td>4 º</td>\n",
              "      <td>Balneário Camboriú (SC)</td>\n",
              "      <td>845</td>\n",
              "      <td>0854</td>\n",
              "      <td>0894</td>\n",
              "      <td>789</td>\n",
              "    </tr>\n",
              "    <tr>\n",
              "      <th>4</th>\n",
              "      <td>4 º</td>\n",
              "      <td>Vitória (ES)</td>\n",
              "      <td>845</td>\n",
              "      <td>0876</td>\n",
              "      <td>0855</td>\n",
              "      <td>805</td>\n",
              "    </tr>\n",
              "    <tr>\n",
              "      <th>...</th>\n",
              "      <td>...</td>\n",
              "      <td>...</td>\n",
              "      <td>...</td>\n",
              "      <td>...</td>\n",
              "      <td>...</td>\n",
              "      <td>...</td>\n",
              "    </tr>\n",
              "    <tr>\n",
              "      <th>5560</th>\n",
              "      <td>5560 º</td>\n",
              "      <td>Uiramutã (RR)</td>\n",
              "      <td>453</td>\n",
              "      <td>0439</td>\n",
              "      <td>0766</td>\n",
              "      <td>276</td>\n",
              "    </tr>\n",
              "    <tr>\n",
              "      <th>5561</th>\n",
              "      <td>5562 º</td>\n",
              "      <td>Marajá do Sena (MA)</td>\n",
              "      <td>452</td>\n",
              "      <td>0400</td>\n",
              "      <td>0774</td>\n",
              "      <td>299</td>\n",
              "    </tr>\n",
              "    <tr>\n",
              "      <th>5562</th>\n",
              "      <td>5563 º</td>\n",
              "      <td>Atalaia do Norte (AM)</td>\n",
              "      <td>450</td>\n",
              "      <td>0481</td>\n",
              "      <td>0733</td>\n",
              "      <td>259</td>\n",
              "    </tr>\n",
              "    <tr>\n",
              "      <th>5563</th>\n",
              "      <td>5564 º</td>\n",
              "      <td>Fernando Falcão (MA)</td>\n",
              "      <td>443</td>\n",
              "      <td>0417</td>\n",
              "      <td>0728</td>\n",
              "      <td>286</td>\n",
              "    </tr>\n",
              "    <tr>\n",
              "      <th>5564</th>\n",
              "      <td>5565 º</td>\n",
              "      <td>Melgaço (PA)</td>\n",
              "      <td>418</td>\n",
              "      <td>0454</td>\n",
              "      <td>0776</td>\n",
              "      <td>207</td>\n",
              "    </tr>\n",
              "  </tbody>\n",
              "</table>\n",
              "<p>5565 rows × 6 columns</p>\n",
              "</div>"
            ],
            "text/plain": [
              "     Ranking IDHM 2010  ... IDHM Educação 2010\n",
              "0                  1 º  ...                811\n",
              "1                  2 º  ...                825\n",
              "2                  3 º  ...                800\n",
              "3                  4 º  ...                789\n",
              "4                  4 º  ...                805\n",
              "...                ...  ...                ...\n",
              "5560            5560 º  ...                276\n",
              "5561            5562 º  ...                299\n",
              "5562            5563 º  ...                259\n",
              "5563            5564 º  ...                286\n",
              "5564            5565 º  ...                207\n",
              "\n",
              "[5565 rows x 6 columns]"
            ]
          },
          "metadata": {
            "tags": []
          },
          "execution_count": 35
        }
      ]
    },
    {
      "cell_type": "code",
      "metadata": {
        "colab": {
          "base_uri": "https://localhost:8080/",
          "height": 600
        },
        "id": "mv-fWEmc0IGq",
        "outputId": "9437ab86-51cb-4a48-85eb-8cea78015be5"
      },
      "source": [
        "print(idh.columns.ravel())\n",
        "idh = idh[idh['Município'].str.contains(\"(SP)\")]\n",
        "idh"
      ],
      "execution_count": 36,
      "outputs": [
        {
          "output_type": "stream",
          "text": [
            "['Ranking IDHM 2010' 'Município' 'IDHM 2010' 'IDHM Renda 2010'\n",
            " 'IDHM Longevidade 2010' 'IDHM Educação 2010']\n"
          ],
          "name": "stdout"
        },
        {
          "output_type": "stream",
          "text": [
            "/usr/local/lib/python3.7/dist-packages/pandas/core/strings.py:2001: UserWarning: This pattern has match groups. To actually get the groups, use str.extract.\n",
            "  return func(self, *args, **kwargs)\n"
          ],
          "name": "stderr"
        },
        {
          "output_type": "execute_result",
          "data": {
            "text/html": [
              "<div>\n",
              "<style scoped>\n",
              "    .dataframe tbody tr th:only-of-type {\n",
              "        vertical-align: middle;\n",
              "    }\n",
              "\n",
              "    .dataframe tbody tr th {\n",
              "        vertical-align: top;\n",
              "    }\n",
              "\n",
              "    .dataframe thead th {\n",
              "        text-align: right;\n",
              "    }\n",
              "</style>\n",
              "<table border=\"1\" class=\"dataframe\">\n",
              "  <thead>\n",
              "    <tr style=\"text-align: right;\">\n",
              "      <th></th>\n",
              "      <th>Ranking IDHM 2010</th>\n",
              "      <th>Município</th>\n",
              "      <th>IDHM 2010</th>\n",
              "      <th>IDHM Renda 2010</th>\n",
              "      <th>IDHM Longevidade 2010</th>\n",
              "      <th>IDHM Educação 2010</th>\n",
              "    </tr>\n",
              "  </thead>\n",
              "  <tbody>\n",
              "    <tr>\n",
              "      <th>0</th>\n",
              "      <td>1 º</td>\n",
              "      <td>São Caetano do Sul (SP)</td>\n",
              "      <td>862</td>\n",
              "      <td>0891</td>\n",
              "      <td>0887</td>\n",
              "      <td>811</td>\n",
              "    </tr>\n",
              "    <tr>\n",
              "      <th>1</th>\n",
              "      <td>2 º</td>\n",
              "      <td>Águas de São Pedro (SP)</td>\n",
              "      <td>854</td>\n",
              "      <td>0849</td>\n",
              "      <td>0890</td>\n",
              "      <td>825</td>\n",
              "    </tr>\n",
              "    <tr>\n",
              "      <th>5</th>\n",
              "      <td>6 º</td>\n",
              "      <td>Santos (SP)</td>\n",
              "      <td>840</td>\n",
              "      <td>0861</td>\n",
              "      <td>0852</td>\n",
              "      <td>807</td>\n",
              "    </tr>\n",
              "    <tr>\n",
              "      <th>10</th>\n",
              "      <td>11 º</td>\n",
              "      <td>Jundiaí (SP)</td>\n",
              "      <td>822</td>\n",
              "      <td>0834</td>\n",
              "      <td>0866</td>\n",
              "      <td>768</td>\n",
              "    </tr>\n",
              "    <tr>\n",
              "      <th>11</th>\n",
              "      <td>12 º</td>\n",
              "      <td>Valinhos (SP)</td>\n",
              "      <td>819</td>\n",
              "      <td>0848</td>\n",
              "      <td>0850</td>\n",
              "      <td>763</td>\n",
              "    </tr>\n",
              "    <tr>\n",
              "      <th>...</th>\n",
              "      <td>...</td>\n",
              "      <td>...</td>\n",
              "      <td>...</td>\n",
              "      <td>...</td>\n",
              "      <td>...</td>\n",
              "      <td>...</td>\n",
              "    </tr>\n",
              "    <tr>\n",
              "      <th>2967</th>\n",
              "      <td>2964 º</td>\n",
              "      <td>Redenção da Serra (SP)</td>\n",
              "      <td>657</td>\n",
              "      <td>0633</td>\n",
              "      <td>0799</td>\n",
              "      <td>560</td>\n",
              "    </tr>\n",
              "    <tr>\n",
              "      <th>3013</th>\n",
              "      <td>3008 º</td>\n",
              "      <td>Natividade da Serra (SP)</td>\n",
              "      <td>655</td>\n",
              "      <td>0664</td>\n",
              "      <td>0814</td>\n",
              "      <td>520</td>\n",
              "    </tr>\n",
              "    <tr>\n",
              "      <th>3098</th>\n",
              "      <td>3090 º</td>\n",
              "      <td>Nova Campina (SP)</td>\n",
              "      <td>651</td>\n",
              "      <td>0598</td>\n",
              "      <td>0799</td>\n",
              "      <td>577</td>\n",
              "    </tr>\n",
              "    <tr>\n",
              "      <th>3275</th>\n",
              "      <td>3275 º</td>\n",
              "      <td>Barra do Turvo (SP)</td>\n",
              "      <td>641</td>\n",
              "      <td>0625</td>\n",
              "      <td>0792</td>\n",
              "      <td>532</td>\n",
              "    </tr>\n",
              "    <tr>\n",
              "      <th>3311</th>\n",
              "      <td>3312 º</td>\n",
              "      <td>Ribeirão Branco (SP)</td>\n",
              "      <td>639</td>\n",
              "      <td>0592</td>\n",
              "      <td>0797</td>\n",
              "      <td>553</td>\n",
              "    </tr>\n",
              "  </tbody>\n",
              "</table>\n",
              "<p>645 rows × 6 columns</p>\n",
              "</div>"
            ],
            "text/plain": [
              "     Ranking IDHM 2010  ... IDHM Educação 2010\n",
              "0                  1 º  ...                811\n",
              "1                  2 º  ...                825\n",
              "5                  6 º  ...                807\n",
              "10                11 º  ...                768\n",
              "11                12 º  ...                763\n",
              "...                ...  ...                ...\n",
              "2967            2964 º  ...                560\n",
              "3013            3008 º  ...                520\n",
              "3098            3090 º  ...                577\n",
              "3275            3275 º  ...                532\n",
              "3311            3312 º  ...                553\n",
              "\n",
              "[645 rows x 6 columns]"
            ]
          },
          "metadata": {
            "tags": []
          },
          "execution_count": 36
        }
      ]
    },
    {
      "cell_type": "code",
      "metadata": {
        "colab": {
          "base_uri": "https://localhost:8080/",
          "height": 670
        },
        "id": "P_fG5Zg11div",
        "outputId": "433c38b3-607d-42db-e2b2-661237b948b6"
      },
      "source": [
        "print(idh.columns.ravel())\n",
        "idh['Município'] = idh['Município'].str[:-5]\n",
        "idh"
      ],
      "execution_count": 37,
      "outputs": [
        {
          "output_type": "stream",
          "text": [
            "['Ranking IDHM 2010' 'Município' 'IDHM 2010' 'IDHM Renda 2010'\n",
            " 'IDHM Longevidade 2010' 'IDHM Educação 2010']\n"
          ],
          "name": "stdout"
        },
        {
          "output_type": "stream",
          "text": [
            "/usr/local/lib/python3.7/dist-packages/ipykernel_launcher.py:2: SettingWithCopyWarning: \n",
            "A value is trying to be set on a copy of a slice from a DataFrame.\n",
            "Try using .loc[row_indexer,col_indexer] = value instead\n",
            "\n",
            "See the caveats in the documentation: https://pandas.pydata.org/pandas-docs/stable/user_guide/indexing.html#returning-a-view-versus-a-copy\n",
            "  \n"
          ],
          "name": "stderr"
        },
        {
          "output_type": "execute_result",
          "data": {
            "text/html": [
              "<div>\n",
              "<style scoped>\n",
              "    .dataframe tbody tr th:only-of-type {\n",
              "        vertical-align: middle;\n",
              "    }\n",
              "\n",
              "    .dataframe tbody tr th {\n",
              "        vertical-align: top;\n",
              "    }\n",
              "\n",
              "    .dataframe thead th {\n",
              "        text-align: right;\n",
              "    }\n",
              "</style>\n",
              "<table border=\"1\" class=\"dataframe\">\n",
              "  <thead>\n",
              "    <tr style=\"text-align: right;\">\n",
              "      <th></th>\n",
              "      <th>Ranking IDHM 2010</th>\n",
              "      <th>Município</th>\n",
              "      <th>IDHM 2010</th>\n",
              "      <th>IDHM Renda 2010</th>\n",
              "      <th>IDHM Longevidade 2010</th>\n",
              "      <th>IDHM Educação 2010</th>\n",
              "    </tr>\n",
              "  </thead>\n",
              "  <tbody>\n",
              "    <tr>\n",
              "      <th>0</th>\n",
              "      <td>1 º</td>\n",
              "      <td>São Caetano do Sul</td>\n",
              "      <td>862</td>\n",
              "      <td>0891</td>\n",
              "      <td>0887</td>\n",
              "      <td>811</td>\n",
              "    </tr>\n",
              "    <tr>\n",
              "      <th>1</th>\n",
              "      <td>2 º</td>\n",
              "      <td>Águas de São Pedro</td>\n",
              "      <td>854</td>\n",
              "      <td>0849</td>\n",
              "      <td>0890</td>\n",
              "      <td>825</td>\n",
              "    </tr>\n",
              "    <tr>\n",
              "      <th>5</th>\n",
              "      <td>6 º</td>\n",
              "      <td>Santos</td>\n",
              "      <td>840</td>\n",
              "      <td>0861</td>\n",
              "      <td>0852</td>\n",
              "      <td>807</td>\n",
              "    </tr>\n",
              "    <tr>\n",
              "      <th>10</th>\n",
              "      <td>11 º</td>\n",
              "      <td>Jundiaí</td>\n",
              "      <td>822</td>\n",
              "      <td>0834</td>\n",
              "      <td>0866</td>\n",
              "      <td>768</td>\n",
              "    </tr>\n",
              "    <tr>\n",
              "      <th>11</th>\n",
              "      <td>12 º</td>\n",
              "      <td>Valinhos</td>\n",
              "      <td>819</td>\n",
              "      <td>0848</td>\n",
              "      <td>0850</td>\n",
              "      <td>763</td>\n",
              "    </tr>\n",
              "    <tr>\n",
              "      <th>...</th>\n",
              "      <td>...</td>\n",
              "      <td>...</td>\n",
              "      <td>...</td>\n",
              "      <td>...</td>\n",
              "      <td>...</td>\n",
              "      <td>...</td>\n",
              "    </tr>\n",
              "    <tr>\n",
              "      <th>2967</th>\n",
              "      <td>2964 º</td>\n",
              "      <td>Redenção da Serra</td>\n",
              "      <td>657</td>\n",
              "      <td>0633</td>\n",
              "      <td>0799</td>\n",
              "      <td>560</td>\n",
              "    </tr>\n",
              "    <tr>\n",
              "      <th>3013</th>\n",
              "      <td>3008 º</td>\n",
              "      <td>Natividade da Serra</td>\n",
              "      <td>655</td>\n",
              "      <td>0664</td>\n",
              "      <td>0814</td>\n",
              "      <td>520</td>\n",
              "    </tr>\n",
              "    <tr>\n",
              "      <th>3098</th>\n",
              "      <td>3090 º</td>\n",
              "      <td>Nova Campina</td>\n",
              "      <td>651</td>\n",
              "      <td>0598</td>\n",
              "      <td>0799</td>\n",
              "      <td>577</td>\n",
              "    </tr>\n",
              "    <tr>\n",
              "      <th>3275</th>\n",
              "      <td>3275 º</td>\n",
              "      <td>Barra do Turvo</td>\n",
              "      <td>641</td>\n",
              "      <td>0625</td>\n",
              "      <td>0792</td>\n",
              "      <td>532</td>\n",
              "    </tr>\n",
              "    <tr>\n",
              "      <th>3311</th>\n",
              "      <td>3312 º</td>\n",
              "      <td>Ribeirão Branco</td>\n",
              "      <td>639</td>\n",
              "      <td>0592</td>\n",
              "      <td>0797</td>\n",
              "      <td>553</td>\n",
              "    </tr>\n",
              "  </tbody>\n",
              "</table>\n",
              "<p>645 rows × 6 columns</p>\n",
              "</div>"
            ],
            "text/plain": [
              "     Ranking IDHM 2010  ... IDHM Educação 2010\n",
              "0                  1 º  ...                811\n",
              "1                  2 º  ...                825\n",
              "5                  6 º  ...                807\n",
              "10                11 º  ...                768\n",
              "11                12 º  ...                763\n",
              "...                ...  ...                ...\n",
              "2967            2964 º  ...                560\n",
              "3013            3008 º  ...                520\n",
              "3098            3090 º  ...                577\n",
              "3275            3275 º  ...                532\n",
              "3311            3312 º  ...                553\n",
              "\n",
              "[645 rows x 6 columns]"
            ]
          },
          "metadata": {
            "tags": []
          },
          "execution_count": 37
        }
      ]
    },
    {
      "cell_type": "code",
      "metadata": {
        "colab": {
          "base_uri": "https://localhost:8080/",
          "height": 528
        },
        "id": "oP2jqGh54neY",
        "outputId": "21b34cf5-1284-4f4e-bed3-d65a85080aa9"
      },
      "source": [
        "final_data = pd.merge(left = data_sp, right = idh, left_on = 'Municipios', right_on = 'Município', how = \"outer\")\n",
        "final_data"
      ],
      "execution_count": 38,
      "outputs": [
        {
          "output_type": "execute_result",
          "data": {
            "text/html": [
              "<div>\n",
              "<style scoped>\n",
              "    .dataframe tbody tr th:only-of-type {\n",
              "        vertical-align: middle;\n",
              "    }\n",
              "\n",
              "    .dataframe tbody tr th {\n",
              "        vertical-align: top;\n",
              "    }\n",
              "\n",
              "    .dataframe thead th {\n",
              "        text-align: right;\n",
              "    }\n",
              "</style>\n",
              "<table border=\"1\" class=\"dataframe\">\n",
              "  <thead>\n",
              "    <tr style=\"text-align: right;\">\n",
              "      <th></th>\n",
              "      <th>ID</th>\n",
              "      <th>Municipios</th>\n",
              "      <th>Ranking IDHM 2010</th>\n",
              "      <th>Município</th>\n",
              "      <th>IDHM 2010</th>\n",
              "      <th>IDHM Renda 2010</th>\n",
              "      <th>IDHM Longevidade 2010</th>\n",
              "      <th>IDHM Educação 2010</th>\n",
              "    </tr>\n",
              "  </thead>\n",
              "  <tbody>\n",
              "    <tr>\n",
              "      <th>0</th>\n",
              "      <td>3500105.0</td>\n",
              "      <td>Adamantina</td>\n",
              "      <td>67 º</td>\n",
              "      <td>Adamantina</td>\n",
              "      <td>790.0</td>\n",
              "      <td>0772</td>\n",
              "      <td>0852</td>\n",
              "      <td>750.0</td>\n",
              "    </tr>\n",
              "    <tr>\n",
              "      <th>1</th>\n",
              "      <td>3500204.0</td>\n",
              "      <td>Adolfo</td>\n",
              "      <td>1021 º</td>\n",
              "      <td>Adolfo</td>\n",
              "      <td>730.0</td>\n",
              "      <td>0710</td>\n",
              "      <td>0844</td>\n",
              "      <td>648.0</td>\n",
              "    </tr>\n",
              "    <tr>\n",
              "      <th>2</th>\n",
              "      <td>3500303.0</td>\n",
              "      <td>Aguaí</td>\n",
              "      <td>1454 º</td>\n",
              "      <td>Aguaí</td>\n",
              "      <td>715.0</td>\n",
              "      <td>0703</td>\n",
              "      <td>0858</td>\n",
              "      <td>606.0</td>\n",
              "    </tr>\n",
              "    <tr>\n",
              "      <th>3</th>\n",
              "      <td>3500402.0</td>\n",
              "      <td>Águas da Prata</td>\n",
              "      <td>119 º</td>\n",
              "      <td>Águas da Prata</td>\n",
              "      <td>781.0</td>\n",
              "      <td>0750</td>\n",
              "      <td>0886</td>\n",
              "      <td>716.0</td>\n",
              "    </tr>\n",
              "    <tr>\n",
              "      <th>4</th>\n",
              "      <td>3500501.0</td>\n",
              "      <td>Águas de Lindóia</td>\n",
              "      <td>648 º</td>\n",
              "      <td>Águas de Lindóia</td>\n",
              "      <td>745.0</td>\n",
              "      <td>0725</td>\n",
              "      <td>0846</td>\n",
              "      <td>675.0</td>\n",
              "    </tr>\n",
              "    <tr>\n",
              "      <th>...</th>\n",
              "      <td>...</td>\n",
              "      <td>...</td>\n",
              "      <td>...</td>\n",
              "      <td>...</td>\n",
              "      <td>...</td>\n",
              "      <td>...</td>\n",
              "      <td>...</td>\n",
              "      <td>...</td>\n",
              "    </tr>\n",
              "    <tr>\n",
              "      <th>653</th>\n",
              "      <td>NaN</td>\n",
              "      <td>NaN</td>\n",
              "      <td>1266 º</td>\n",
              "      <td>Aparecida D'Oeste</td>\n",
              "      <td>721.0</td>\n",
              "      <td>0697</td>\n",
              "      <td>0804</td>\n",
              "      <td>670.0</td>\n",
              "    </tr>\n",
              "    <tr>\n",
              "      <th>654</th>\n",
              "      <td>NaN</td>\n",
              "      <td>NaN</td>\n",
              "      <td>1514 º</td>\n",
              "      <td>Florínia</td>\n",
              "      <td>713.0</td>\n",
              "      <td>0678</td>\n",
              "      <td>0820</td>\n",
              "      <td>652.0</td>\n",
              "    </tr>\n",
              "    <tr>\n",
              "      <th>655</th>\n",
              "      <td>NaN</td>\n",
              "      <td>NaN</td>\n",
              "      <td>1546 º</td>\n",
              "      <td>Biritiba-Mirim</td>\n",
              "      <td>712.0</td>\n",
              "      <td>0710</td>\n",
              "      <td>0795</td>\n",
              "      <td>640.0</td>\n",
              "    </tr>\n",
              "    <tr>\n",
              "      <th>656</th>\n",
              "      <td>NaN</td>\n",
              "      <td>NaN</td>\n",
              "      <td>1995 º</td>\n",
              "      <td>São Luís do Paraitinga</td>\n",
              "      <td>697.0</td>\n",
              "      <td>0691</td>\n",
              "      <td>0826</td>\n",
              "      <td>593.0</td>\n",
              "    </tr>\n",
              "    <tr>\n",
              "      <th>657</th>\n",
              "      <td>NaN</td>\n",
              "      <td>NaN</td>\n",
              "      <td>2439 º</td>\n",
              "      <td>Itaóca</td>\n",
              "      <td>680.0</td>\n",
              "      <td>0627</td>\n",
              "      <td>0787</td>\n",
              "      <td>637.0</td>\n",
              "    </tr>\n",
              "  </tbody>\n",
              "</table>\n",
              "<p>658 rows × 8 columns</p>\n",
              "</div>"
            ],
            "text/plain": [
              "            ID        Municipios  ... IDHM Longevidade 2010 IDHM Educação 2010\n",
              "0    3500105.0        Adamantina  ...                  0852              750.0\n",
              "1    3500204.0            Adolfo  ...                  0844              648.0\n",
              "2    3500303.0             Aguaí  ...                  0858              606.0\n",
              "3    3500402.0    Águas da Prata  ...                  0886              716.0\n",
              "4    3500501.0  Águas de Lindóia  ...                  0846              675.0\n",
              "..         ...               ...  ...                   ...                ...\n",
              "653        NaN               NaN  ...                  0804              670.0\n",
              "654        NaN               NaN  ...                  0820              652.0\n",
              "655        NaN               NaN  ...                  0795              640.0\n",
              "656        NaN               NaN  ...                  0826              593.0\n",
              "657        NaN               NaN  ...                  0787              637.0\n",
              "\n",
              "[658 rows x 8 columns]"
            ]
          },
          "metadata": {
            "tags": []
          },
          "execution_count": 38
        }
      ]
    },
    {
      "cell_type": "code",
      "metadata": {
        "colab": {
          "base_uri": "https://localhost:8080/",
          "height": 493
        },
        "id": "B-v00nt24zM7",
        "outputId": "37e54586-ef1a-4806-da33-a3f215774d2e"
      },
      "source": [
        "dfinal = final_data.dropna()\n",
        "dfinal\n"
      ],
      "execution_count": 39,
      "outputs": [
        {
          "output_type": "execute_result",
          "data": {
            "text/html": [
              "<div>\n",
              "<style scoped>\n",
              "    .dataframe tbody tr th:only-of-type {\n",
              "        vertical-align: middle;\n",
              "    }\n",
              "\n",
              "    .dataframe tbody tr th {\n",
              "        vertical-align: top;\n",
              "    }\n",
              "\n",
              "    .dataframe thead th {\n",
              "        text-align: right;\n",
              "    }\n",
              "</style>\n",
              "<table border=\"1\" class=\"dataframe\">\n",
              "  <thead>\n",
              "    <tr style=\"text-align: right;\">\n",
              "      <th></th>\n",
              "      <th>ID</th>\n",
              "      <th>Municipios</th>\n",
              "      <th>Ranking IDHM 2010</th>\n",
              "      <th>Município</th>\n",
              "      <th>IDHM 2010</th>\n",
              "      <th>IDHM Renda 2010</th>\n",
              "      <th>IDHM Longevidade 2010</th>\n",
              "      <th>IDHM Educação 2010</th>\n",
              "    </tr>\n",
              "  </thead>\n",
              "  <tbody>\n",
              "    <tr>\n",
              "      <th>0</th>\n",
              "      <td>3500105.0</td>\n",
              "      <td>Adamantina</td>\n",
              "      <td>67 º</td>\n",
              "      <td>Adamantina</td>\n",
              "      <td>790.0</td>\n",
              "      <td>0772</td>\n",
              "      <td>0852</td>\n",
              "      <td>750.0</td>\n",
              "    </tr>\n",
              "    <tr>\n",
              "      <th>1</th>\n",
              "      <td>3500204.0</td>\n",
              "      <td>Adolfo</td>\n",
              "      <td>1021 º</td>\n",
              "      <td>Adolfo</td>\n",
              "      <td>730.0</td>\n",
              "      <td>0710</td>\n",
              "      <td>0844</td>\n",
              "      <td>648.0</td>\n",
              "    </tr>\n",
              "    <tr>\n",
              "      <th>2</th>\n",
              "      <td>3500303.0</td>\n",
              "      <td>Aguaí</td>\n",
              "      <td>1454 º</td>\n",
              "      <td>Aguaí</td>\n",
              "      <td>715.0</td>\n",
              "      <td>0703</td>\n",
              "      <td>0858</td>\n",
              "      <td>606.0</td>\n",
              "    </tr>\n",
              "    <tr>\n",
              "      <th>3</th>\n",
              "      <td>3500402.0</td>\n",
              "      <td>Águas da Prata</td>\n",
              "      <td>119 º</td>\n",
              "      <td>Águas da Prata</td>\n",
              "      <td>781.0</td>\n",
              "      <td>0750</td>\n",
              "      <td>0886</td>\n",
              "      <td>716.0</td>\n",
              "    </tr>\n",
              "    <tr>\n",
              "      <th>4</th>\n",
              "      <td>3500501.0</td>\n",
              "      <td>Águas de Lindóia</td>\n",
              "      <td>648 º</td>\n",
              "      <td>Águas de Lindóia</td>\n",
              "      <td>745.0</td>\n",
              "      <td>0725</td>\n",
              "      <td>0846</td>\n",
              "      <td>675.0</td>\n",
              "    </tr>\n",
              "    <tr>\n",
              "      <th>...</th>\n",
              "      <td>...</td>\n",
              "      <td>...</td>\n",
              "      <td>...</td>\n",
              "      <td>...</td>\n",
              "      <td>...</td>\n",
              "      <td>...</td>\n",
              "      <td>...</td>\n",
              "      <td>...</td>\n",
              "    </tr>\n",
              "    <tr>\n",
              "      <th>640</th>\n",
              "      <td>3557006.0</td>\n",
              "      <td>Votorantim</td>\n",
              "      <td>265 º</td>\n",
              "      <td>Votorantim</td>\n",
              "      <td>767.0</td>\n",
              "      <td>0720</td>\n",
              "      <td>0838</td>\n",
              "      <td>747.0</td>\n",
              "    </tr>\n",
              "    <tr>\n",
              "      <th>641</th>\n",
              "      <td>3557105.0</td>\n",
              "      <td>Votuporanga</td>\n",
              "      <td>67 º</td>\n",
              "      <td>Votuporanga</td>\n",
              "      <td>790.0</td>\n",
              "      <td>0772</td>\n",
              "      <td>0857</td>\n",
              "      <td>744.0</td>\n",
              "    </tr>\n",
              "    <tr>\n",
              "      <th>642</th>\n",
              "      <td>3557154.0</td>\n",
              "      <td>Zacarias</td>\n",
              "      <td>1052 º</td>\n",
              "      <td>Zacarias</td>\n",
              "      <td>729.0</td>\n",
              "      <td>0695</td>\n",
              "      <td>0826</td>\n",
              "      <td>674.0</td>\n",
              "    </tr>\n",
              "    <tr>\n",
              "      <th>643</th>\n",
              "      <td>3557204.0</td>\n",
              "      <td>Chavantes</td>\n",
              "      <td>1052 º</td>\n",
              "      <td>Chavantes</td>\n",
              "      <td>729.0</td>\n",
              "      <td>0713</td>\n",
              "      <td>0828</td>\n",
              "      <td>655.0</td>\n",
              "    </tr>\n",
              "    <tr>\n",
              "      <th>644</th>\n",
              "      <td>3557303.0</td>\n",
              "      <td>Estiva Gerbi</td>\n",
              "      <td>764 º</td>\n",
              "      <td>Estiva Gerbi</td>\n",
              "      <td>740.0</td>\n",
              "      <td>0716</td>\n",
              "      <td>0815</td>\n",
              "      <td>695.0</td>\n",
              "    </tr>\n",
              "  </tbody>\n",
              "</table>\n",
              "<p>632 rows × 8 columns</p>\n",
              "</div>"
            ],
            "text/plain": [
              "            ID        Municipios  ... IDHM Longevidade 2010 IDHM Educação 2010\n",
              "0    3500105.0        Adamantina  ...                  0852              750.0\n",
              "1    3500204.0            Adolfo  ...                  0844              648.0\n",
              "2    3500303.0             Aguaí  ...                  0858              606.0\n",
              "3    3500402.0    Águas da Prata  ...                  0886              716.0\n",
              "4    3500501.0  Águas de Lindóia  ...                  0846              675.0\n",
              "..         ...               ...  ...                   ...                ...\n",
              "640  3557006.0        Votorantim  ...                  0838              747.0\n",
              "641  3557105.0       Votuporanga  ...                  0857              744.0\n",
              "642  3557154.0          Zacarias  ...                  0826              674.0\n",
              "643  3557204.0         Chavantes  ...                  0828              655.0\n",
              "644  3557303.0      Estiva Gerbi  ...                  0815              695.0\n",
              "\n",
              "[632 rows x 8 columns]"
            ]
          },
          "metadata": {
            "tags": []
          },
          "execution_count": 39
        }
      ]
    },
    {
      "cell_type": "code",
      "metadata": {
        "colab": {
          "base_uri": "https://localhost:8080/"
        },
        "id": "4n6qxWQ37fTW",
        "outputId": "e73e3639-dcf1-4720-8e39-ef87554907ed"
      },
      "source": [
        "dfinal.columns\n",
        "dfinal['IDHM 2010']"
      ],
      "execution_count": 40,
      "outputs": [
        {
          "output_type": "execute_result",
          "data": {
            "text/plain": [
              "0      790.0\n",
              "1      730.0\n",
              "2      715.0\n",
              "3      781.0\n",
              "4      745.0\n",
              "       ...  \n",
              "640    767.0\n",
              "641    790.0\n",
              "642    729.0\n",
              "643    729.0\n",
              "644    740.0\n",
              "Name: IDHM 2010, Length: 632, dtype: float64"
            ]
          },
          "metadata": {
            "tags": []
          },
          "execution_count": 40
        }
      ]
    },
    {
      "cell_type": "code",
      "metadata": {
        "colab": {
          "base_uri": "https://localhost:8080/"
        },
        "id": "cfHbBhtq8juE",
        "outputId": "ad5a8874-e890-49d8-cdaa-b10d9a4d7cdd"
      },
      "source": [
        "tabhtml = dfinal.to_html()\n",
        "text_file = open(\"index.html\",\"w\")\n",
        "text_file.write(tabhtml)\n",
        "text_file.close()\n",
        "!ls"
      ],
      "execution_count": 41,
      "outputs": [
        {
          "output_type": "stream",
          "text": [
            "index.html  sample_data\n"
          ],
          "name": "stdout"
        }
      ]
    },
    {
      "cell_type": "code",
      "metadata": {
        "colab": {
          "base_uri": "https://localhost:8080/",
          "height": 17
        },
        "id": "d1NgIv8uKwqq",
        "outputId": "f6fe9d6e-7268-463f-fc2f-553aeafb6f4a"
      },
      "source": [
        "from google.colab import files\n",
        "files.download('index.html')"
      ],
      "execution_count": 43,
      "outputs": [
        {
          "output_type": "display_data",
          "data": {
            "application/javascript": [
              "\n",
              "    async function download(id, filename, size) {\n",
              "      if (!google.colab.kernel.accessAllowed) {\n",
              "        return;\n",
              "      }\n",
              "      const div = document.createElement('div');\n",
              "      const label = document.createElement('label');\n",
              "      label.textContent = `Downloading \"${filename}\": `;\n",
              "      div.appendChild(label);\n",
              "      const progress = document.createElement('progress');\n",
              "      progress.max = size;\n",
              "      div.appendChild(progress);\n",
              "      document.body.appendChild(div);\n",
              "\n",
              "      const buffers = [];\n",
              "      let downloaded = 0;\n",
              "\n",
              "      const channel = await google.colab.kernel.comms.open(id);\n",
              "      // Send a message to notify the kernel that we're ready.\n",
              "      channel.send({})\n",
              "\n",
              "      for await (const message of channel.messages) {\n",
              "        // Send a message to notify the kernel that we're ready.\n",
              "        channel.send({})\n",
              "        if (message.buffers) {\n",
              "          for (const buffer of message.buffers) {\n",
              "            buffers.push(buffer);\n",
              "            downloaded += buffer.byteLength;\n",
              "            progress.value = downloaded;\n",
              "          }\n",
              "        }\n",
              "      }\n",
              "      const blob = new Blob(buffers, {type: 'application/binary'});\n",
              "      const a = document.createElement('a');\n",
              "      a.href = window.URL.createObjectURL(blob);\n",
              "      a.download = filename;\n",
              "      div.appendChild(a);\n",
              "      a.click();\n",
              "      div.remove();\n",
              "    }\n",
              "  "
            ],
            "text/plain": [
              "<IPython.core.display.Javascript object>"
            ]
          },
          "metadata": {
            "tags": []
          }
        },
        {
          "output_type": "display_data",
          "data": {
            "application/javascript": [
              "download(\"download_6b091eed-a40e-4749-b014-0e56b595801b\", \"index.html\", 140099)"
            ],
            "text/plain": [
              "<IPython.core.display.Javascript object>"
            ]
          },
          "metadata": {
            "tags": []
          }
        }
      ]
    },
    {
      "cell_type": "code",
      "metadata": {
        "colab": {
          "base_uri": "https://localhost:8080/",
          "height": 543
        },
        "id": "qIWwxaS6MfkC",
        "outputId": "57249f4b-0a7f-4299-e616-09d040c75ee4"
      },
      "source": [
        "print(\"Nomes das colunas \", dfinal.columns)\n",
        "print(\"Valores da coluna IDHM 2010: \", dfinal['IDHM 2010'])\n",
        "print(\"Tipo do elemento de IDHM 2010\",type(dfinal['IDHM 2010'][0]))\n",
        "boxplot = dfinal.boxplot(column=['IDHM 2010','IDHM Educação 2010'])"
      ],
      "execution_count": 46,
      "outputs": [
        {
          "output_type": "stream",
          "text": [
            "Nomes das colunas  Index(['ID', 'Municipios', 'Ranking IDHM 2010', 'Município', 'IDHM 2010',\n",
            "       'IDHM Renda 2010', 'IDHM Longevidade 2010', 'IDHM Educação 2010'],\n",
            "      dtype='object')\n",
            "Valores da coluna IDHM 2010:  0      790.0\n",
            "1      730.0\n",
            "2      715.0\n",
            "3      781.0\n",
            "4      745.0\n",
            "       ...  \n",
            "640    767.0\n",
            "641    790.0\n",
            "642    729.0\n",
            "643    729.0\n",
            "644    740.0\n",
            "Name: IDHM 2010, Length: 632, dtype: float64\n",
            "Tipo do elemento de IDHM 2010 <class 'numpy.float64'>\n"
          ],
          "name": "stdout"
        },
        {
          "output_type": "display_data",
          "data": {
            "image/png": "[encoded data removed]",
            "text/plain": [
              "<Figure size 432x288 with 1 Axes>"
            ]
          },
          "metadata": {
            "tags": [],
            "needs_background": "light"
          }
        }
      ]
    },
    {
      "cell_type": "code",
      "metadata": {
        "colab": {
          "base_uri": "https://localhost:8080/",
          "height": 282
        },
        "id": "xyNh0IfwMwgP",
        "outputId": "ad5e852d-b699-4999-fa93-0d98b946335b"
      },
      "source": [
        "dfinal['IDHM 2010'].plot.hist(orientation='vertical', cumulative=False)\n",
        "#dfinal['IDHM 2010'].plot.hist(orientation='horizontal',cumulative=True)"
      ],
      "execution_count": 47,
      "outputs": [
        {
          "output_type": "execute_result",
          "data": {
            "text/plain": [
              "<matplotlib.axes._subplots.AxesSubplot at 0x7fb0d2c74d50>"
            ]
          },
          "metadata": {
            "tags": []
          },
          "execution_count": 47
        },
        {
          "output_type": "display_data",
          "data": {
            "image/png": "[encoded data removed]",
            "text/plain": [
              "<Figure size 432x288 with 1 Axes>"
            ]
          },
          "metadata": {
            "tags": [],
            "needs_background": "light"
          }
        }
      ]
    },
    {
      "cell_type": "code",
      "metadata": {
        "colab": {
          "base_uri": "https://localhost:8080/",
          "height": 333
        },
        "id": "Z9wXaV6SOIPI",
        "outputId": "bcaf1e60-1138-49b4-af72-95ca3972f20d"
      },
      "source": [
        "dfinal.hist(column=['IDHM 2010','IDHM Educação 2010'],color='r', alpha=0.2, bins=20)"
      ],
      "execution_count": 49,
      "outputs": [
        {
          "output_type": "execute_result",
          "data": {
            "text/plain": [
              "array([[<matplotlib.axes._subplots.AxesSubplot object at 0x7fb0d3b86b90>,\n",
              "        <matplotlib.axes._subplots.AxesSubplot object at 0x7fb0d39a0bd0>]],\n",
              "      dtype=object)"
            ]
          },
          "metadata": {
            "tags": []
          },
          "execution_count": 49
        },
        {
          "output_type": "display_data",
          "data": {
            "image/png": "[encoded data removed]",
            "text/plain": [
              "<Figure size 432x288 with 2 Axes>"
            ]
          },
          "metadata": {
            "tags": [],
            "needs_background": "light"
          }
        }
      ]
    },
    {
      "cell_type": "code",
      "metadata": {
        "colab": {
          "base_uri": "https://localhost:8080/",
          "height": 722
        },
        "id": "ayY5y7rSOQS9",
        "outputId": "9751e659-dc96-4b67-9720-12842e41c2f9"
      },
      "source": [
        "dfinal['IDHM Renda 2010'] = pd.to_numeric(dfinal['IDHM Renda 2010'])\n",
        "dfinal['IDHM Longevidade 2010'] = pd.to_numeric(dfinal['IDHM Longevidade 2010'])\n",
        "dfinal"
      ],
      "execution_count": 50,
      "outputs": [
        {
          "output_type": "stream",
          "text": [
            "/usr/local/lib/python3.7/dist-packages/ipykernel_launcher.py:1: SettingWithCopyWarning: \n",
            "A value is trying to be set on a copy of a slice from a DataFrame.\n",
            "Try using .loc[row_indexer,col_indexer] = value instead\n",
            "\n",
            "See the caveats in the documentation: https://pandas.pydata.org/pandas-docs/stable/user_guide/indexing.html#returning-a-view-versus-a-copy\n",
            "  \"\"\"Entry point for launching an IPython kernel.\n",
            "/usr/local/lib/python3.7/dist-packages/ipykernel_launcher.py:2: SettingWithCopyWarning: \n",
            "A value is trying to be set on a copy of a slice from a DataFrame.\n",
            "Try using .loc[row_indexer,col_indexer] = value instead\n",
            "\n",
            "See the caveats in the documentation: https://pandas.pydata.org/pandas-docs/stable/user_guide/indexing.html#returning-a-view-versus-a-copy\n",
            "  \n"
          ],
          "name": "stderr"
        },
        {
          "output_type": "execute_result",
          "data": {
            "text/html": [
              "<div>\n",
              "<style scoped>\n",
              "    .dataframe tbody tr th:only-of-type {\n",
              "        vertical-align: middle;\n",
              "    }\n",
              "\n",
              "    .dataframe tbody tr th {\n",
              "        vertical-align: top;\n",
              "    }\n",
              "\n",
              "    .dataframe thead th {\n",
              "        text-align: right;\n",
              "    }\n",
              "</style>\n",
              "<table border=\"1\" class=\"dataframe\">\n",
              "  <thead>\n",
              "    <tr style=\"text-align: right;\">\n",
              "      <th></th>\n",
              "      <th>ID</th>\n",
              "      <th>Municipios</th>\n",
              "      <th>Ranking IDHM 2010</th>\n",
              "      <th>Município</th>\n",
              "      <th>IDHM 2010</th>\n",
              "      <th>IDHM Renda 2010</th>\n",
              "      <th>IDHM Longevidade 2010</th>\n",
              "      <th>IDHM Educação 2010</th>\n",
              "    </tr>\n",
              "  </thead>\n",
              "  <tbody>\n",
              "    <tr>\n",
              "      <th>0</th>\n",
              "      <td>3500105.0</td>\n",
              "      <td>Adamantina</td>\n",
              "      <td>67 º</td>\n",
              "      <td>Adamantina</td>\n",
              "      <td>790.0</td>\n",
              "      <td>772</td>\n",
              "      <td>852</td>\n",
              "      <td>750.0</td>\n",
              "    </tr>\n",
              "    <tr>\n",
              "      <th>1</th>\n",
              "      <td>3500204.0</td>\n",
              "      <td>Adolfo</td>\n",
              "      <td>1021 º</td>\n",
              "      <td>Adolfo</td>\n",
              "      <td>730.0</td>\n",
              "      <td>710</td>\n",
              "      <td>844</td>\n",
              "      <td>648.0</td>\n",
              "    </tr>\n",
              "    <tr>\n",
              "      <th>2</th>\n",
              "      <td>3500303.0</td>\n",
              "      <td>Aguaí</td>\n",
              "      <td>1454 º</td>\n",
              "      <td>Aguaí</td>\n",
              "      <td>715.0</td>\n",
              "      <td>703</td>\n",
              "      <td>858</td>\n",
              "      <td>606.0</td>\n",
              "    </tr>\n",
              "    <tr>\n",
              "      <th>3</th>\n",
              "      <td>3500402.0</td>\n",
              "      <td>Águas da Prata</td>\n",
              "      <td>119 º</td>\n",
              "      <td>Águas da Prata</td>\n",
              "      <td>781.0</td>\n",
              "      <td>750</td>\n",
              "      <td>886</td>\n",
              "      <td>716.0</td>\n",
              "    </tr>\n",
              "    <tr>\n",
              "      <th>4</th>\n",
              "      <td>3500501.0</td>\n",
              "      <td>Águas de Lindóia</td>\n",
              "      <td>648 º</td>\n",
              "      <td>Águas de Lindóia</td>\n",
              "      <td>745.0</td>\n",
              "      <td>725</td>\n",
              "      <td>846</td>\n",
              "      <td>675.0</td>\n",
              "    </tr>\n",
              "    <tr>\n",
              "      <th>...</th>\n",
              "      <td>...</td>\n",
              "      <td>...</td>\n",
              "      <td>...</td>\n",
              "      <td>...</td>\n",
              "      <td>...</td>\n",
              "      <td>...</td>\n",
              "      <td>...</td>\n",
              "      <td>...</td>\n",
              "    </tr>\n",
              "    <tr>\n",
              "      <th>640</th>\n",
              "      <td>3557006.0</td>\n",
              "      <td>Votorantim</td>\n",
              "      <td>265 º</td>\n",
              "      <td>Votorantim</td>\n",
              "      <td>767.0</td>\n",
              "      <td>720</td>\n",
              "      <td>838</td>\n",
              "      <td>747.0</td>\n",
              "    </tr>\n",
              "    <tr>\n",
              "      <th>641</th>\n",
              "      <td>3557105.0</td>\n",
              "      <td>Votuporanga</td>\n",
              "      <td>67 º</td>\n",
              "      <td>Votuporanga</td>\n",
              "      <td>790.0</td>\n",
              "      <td>772</td>\n",
              "      <td>857</td>\n",
              "      <td>744.0</td>\n",
              "    </tr>\n",
              "    <tr>\n",
              "      <th>642</th>\n",
              "      <td>3557154.0</td>\n",
              "      <td>Zacarias</td>\n",
              "      <td>1052 º</td>\n",
              "      <td>Zacarias</td>\n",
              "      <td>729.0</td>\n",
              "      <td>695</td>\n",
              "      <td>826</td>\n",
              "      <td>674.0</td>\n",
              "    </tr>\n",
              "    <tr>\n",
              "      <th>643</th>\n",
              "      <td>3557204.0</td>\n",
              "      <td>Chavantes</td>\n",
              "      <td>1052 º</td>\n",
              "      <td>Chavantes</td>\n",
              "      <td>729.0</td>\n",
              "      <td>713</td>\n",
              "      <td>828</td>\n",
              "      <td>655.0</td>\n",
              "    </tr>\n",
              "    <tr>\n",
              "      <th>644</th>\n",
              "      <td>3557303.0</td>\n",
              "      <td>Estiva Gerbi</td>\n",
              "      <td>764 º</td>\n",
              "      <td>Estiva Gerbi</td>\n",
              "      <td>740.0</td>\n",
              "      <td>716</td>\n",
              "      <td>815</td>\n",
              "      <td>695.0</td>\n",
              "    </tr>\n",
              "  </tbody>\n",
              "</table>\n",
              "<p>632 rows × 8 columns</p>\n",
              "</div>"
            ],
            "text/plain": [
              "            ID        Municipios  ... IDHM Longevidade 2010 IDHM Educação 2010\n",
              "0    3500105.0        Adamantina  ...                   852              750.0\n",
              "1    3500204.0            Adolfo  ...                   844              648.0\n",
              "2    3500303.0             Aguaí  ...                   858              606.0\n",
              "3    3500402.0    Águas da Prata  ...                   886              716.0\n",
              "4    3500501.0  Águas de Lindóia  ...                   846              675.0\n",
              "..         ...               ...  ...                   ...                ...\n",
              "640  3557006.0        Votorantim  ...                   838              747.0\n",
              "641  3557105.0       Votuporanga  ...                   857              744.0\n",
              "642  3557154.0          Zacarias  ...                   826              674.0\n",
              "643  3557204.0         Chavantes  ...                   828              655.0\n",
              "644  3557303.0      Estiva Gerbi  ...                   815              695.0\n",
              "\n",
              "[632 rows x 8 columns]"
            ]
          },
          "metadata": {
            "tags": []
          },
          "execution_count": 50
        }
      ]
    },
    {
      "cell_type": "code",
      "metadata": {
        "colab": {
          "base_uri": "https://localhost:8080/",
          "height": 368
        },
        "id": "zLiHM5OiOauR",
        "outputId": "b5a76d46-4729-4e26-9ec5-686cb8521155"
      },
      "source": [
        "dfinal.hist(column=['IDHM 2010', 'IDHM Renda 2010', 'IDHM Longevidade 2010', 'IDHM Educação 2010'],color='r', alpha=0.2, bins=20)"
      ],
      "execution_count": 51,
      "outputs": [
        {
          "output_type": "execute_result",
          "data": {
            "text/plain": [
              "array([[<matplotlib.axes._subplots.AxesSubplot object at 0x7fb0d2cb4490>,\n",
              "        <matplotlib.axes._subplots.AxesSubplot object at 0x7fb0d3adbd50>],\n",
              "       [<matplotlib.axes._subplots.AxesSubplot object at 0x7fb0d3b798d0>,\n",
              "        <matplotlib.axes._subplots.AxesSubplot object at 0x7fb0d3a3dd90>]],\n",
              "      dtype=object)"
            ]
          },
          "metadata": {
            "tags": []
          },
          "execution_count": 51
        },
        {
          "output_type": "display_data",
          "data": {
            "image/png": "[encoded data removed]",
            "text/plain": [
              "<Figure size 432x288 with 4 Axes>"
            ]
          },
          "metadata": {
            "tags": [],
            "needs_background": "light"
          }
        }
      ]
    },
    {
      "cell_type": "code",
      "metadata": {
        "id": "7WniNIsEOr_9"
      },
      "source": [
        ""
      ],
      "execution_count": null,
      "outputs": []
    }
  ]
}