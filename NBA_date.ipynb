{
  "nbformat": 4,
  "nbformat_minor": 0,
  "metadata": {
    "colab": {
      "name": "Brazil City.ipynb",
      "provenance": [],
      "authorship_tag": "ABX9TyNv3DYLjPJPzu6ixoHPJQqy",
      "include_colab_link": true
    },
    "kernelspec": {
      "name": "python3",
      "display_name": "Python 3"
    }
  },
  "cells": [
    {
      "cell_type": "markdown",
      "metadata": {
        "id": "view-in-github",
        "colab_type": "text"
      },
      "source": [
        "<a href=\"https://colab.research.google.com/github/complyservice/Data-science/blob/main/NBA_date.ipynb\" target=\"_parent\"><img src=\"https://colab.research.google.com/assets/colab-badge.svg\" alt=\"Open In Colab\"/></a>"
      ]
    },
    {
      "cell_type": "code",
      "metadata": {
        "id": "g7mn4XpmJRTD"
      },
      "source": [
        "import pandas as pd  \n",
        "import matplotlib.pyplot as plt \n",
        "import seaborn as sn \n",
        "%matplotlib inline"
      ],
      "execution_count": 5,
      "outputs": []
    },
    {
      "cell_type": "code",
      "metadata": {
        "id": "Fqp8gsS2OgAB"
      },
      "source": [
        "df = pd.read_csv('/content/teams.csv')"
      ],
      "execution_count": 15,
      "outputs": []
    },
    {
      "cell_type": "code",
      "metadata": {
        "colab": {
          "base_uri": "https://localhost:8080/"
        },
        "id": "Up-FWGIdVbaP",
        "outputId": "f0f1aed3-602d-4189-a4a1-a3df6667db14"
      },
      "source": [
        "df.shape"
      ],
      "execution_count": 16,
      "outputs": [
        {
          "output_type": "execute_result",
          "data": {
            "text/plain": [
              "(30, 14)"
            ]
          },
          "metadata": {
            "tags": []
          },
          "execution_count": 16
        }
      ]
    },
    {
      "cell_type": "code",
      "metadata": {
        "colab": {
          "base_uri": "https://localhost:8080/",
          "height": 365
        },
        "id": "PGIk3LoNV0yN",
        "outputId": "c2b092d3-2ac5-4c97-aca8-98483f40d543"
      },
      "source": [
        "df.head()"
      ],
      "execution_count": 17,
      "outputs": [
        {
          "output_type": "execute_result",
          "data": {
            "text/html": [
              "<div>\n",
              "<style scoped>\n",
              "    .dataframe tbody tr th:only-of-type {\n",
              "        vertical-align: middle;\n",
              "    }\n",
              "\n",
              "    .dataframe tbody tr th {\n",
              "        vertical-align: top;\n",
              "    }\n",
              "\n",
              "    .dataframe thead th {\n",
              "        text-align: right;\n",
              "    }\n",
              "</style>\n",
              "<table border=\"1\" class=\"dataframe\">\n",
              "  <thead>\n",
              "    <tr style=\"text-align: right;\">\n",
              "      <th></th>\n",
              "      <th>LEAGUE_ID</th>\n",
              "      <th>TEAM_ID</th>\n",
              "      <th>MIN_YEAR</th>\n",
              "      <th>MAX_YEAR</th>\n",
              "      <th>ABBREVIATION</th>\n",
              "      <th>NICKNAME</th>\n",
              "      <th>YEARFOUNDED</th>\n",
              "      <th>CITY</th>\n",
              "      <th>ARENA</th>\n",
              "      <th>ARENACAPACITY</th>\n",
              "      <th>OWNER</th>\n",
              "      <th>GENERALMANAGER</th>\n",
              "      <th>HEADCOACH</th>\n",
              "      <th>DLEAGUEAFFILIATION</th>\n",
              "    </tr>\n",
              "  </thead>\n",
              "  <tbody>\n",
              "    <tr>\n",
              "      <th>0</th>\n",
              "      <td>0</td>\n",
              "      <td>1610612737</td>\n",
              "      <td>1949</td>\n",
              "      <td>2019</td>\n",
              "      <td>ATL</td>\n",
              "      <td>Hawks</td>\n",
              "      <td>1949</td>\n",
              "      <td>Atlanta</td>\n",
              "      <td>State Farm Arena</td>\n",
              "      <td>18729.0</td>\n",
              "      <td>Tony Ressler</td>\n",
              "      <td>Travis Schlenk</td>\n",
              "      <td>Lloyd Pierce</td>\n",
              "      <td>Erie Bayhawks</td>\n",
              "    </tr>\n",
              "    <tr>\n",
              "      <th>1</th>\n",
              "      <td>0</td>\n",
              "      <td>1610612738</td>\n",
              "      <td>1946</td>\n",
              "      <td>2019</td>\n",
              "      <td>BOS</td>\n",
              "      <td>Celtics</td>\n",
              "      <td>1946</td>\n",
              "      <td>Boston</td>\n",
              "      <td>TD Garden</td>\n",
              "      <td>18624.0</td>\n",
              "      <td>Wyc Grousbeck</td>\n",
              "      <td>Danny Ainge</td>\n",
              "      <td>Brad Stevens</td>\n",
              "      <td>Maine Red Claws</td>\n",
              "    </tr>\n",
              "    <tr>\n",
              "      <th>2</th>\n",
              "      <td>0</td>\n",
              "      <td>1610612740</td>\n",
              "      <td>2002</td>\n",
              "      <td>2019</td>\n",
              "      <td>NOP</td>\n",
              "      <td>Pelicans</td>\n",
              "      <td>2002</td>\n",
              "      <td>New Orleans</td>\n",
              "      <td>Smoothie King Center</td>\n",
              "      <td>NaN</td>\n",
              "      <td>Tom Benson</td>\n",
              "      <td>Trajan Langdon</td>\n",
              "      <td>Alvin Gentry</td>\n",
              "      <td>No Affiliate</td>\n",
              "    </tr>\n",
              "    <tr>\n",
              "      <th>3</th>\n",
              "      <td>0</td>\n",
              "      <td>1610612741</td>\n",
              "      <td>1966</td>\n",
              "      <td>2019</td>\n",
              "      <td>CHI</td>\n",
              "      <td>Bulls</td>\n",
              "      <td>1966</td>\n",
              "      <td>Chicago</td>\n",
              "      <td>United Center</td>\n",
              "      <td>21711.0</td>\n",
              "      <td>Jerry Reinsdorf</td>\n",
              "      <td>Gar Forman</td>\n",
              "      <td>Jim Boylen</td>\n",
              "      <td>Windy City Bulls</td>\n",
              "    </tr>\n",
              "    <tr>\n",
              "      <th>4</th>\n",
              "      <td>0</td>\n",
              "      <td>1610612742</td>\n",
              "      <td>1980</td>\n",
              "      <td>2019</td>\n",
              "      <td>DAL</td>\n",
              "      <td>Mavericks</td>\n",
              "      <td>1980</td>\n",
              "      <td>Dallas</td>\n",
              "      <td>American Airlines Center</td>\n",
              "      <td>19200.0</td>\n",
              "      <td>Mark Cuban</td>\n",
              "      <td>Donnie Nelson</td>\n",
              "      <td>Rick Carlisle</td>\n",
              "      <td>Texas Legends</td>\n",
              "    </tr>\n",
              "  </tbody>\n",
              "</table>\n",
              "</div>"
            ],
            "text/plain": [
              "   LEAGUE_ID     TEAM_ID  ...      HEADCOACH  DLEAGUEAFFILIATION\n",
              "0          0  1610612737  ...   Lloyd Pierce       Erie Bayhawks\n",
              "1          0  1610612738  ...   Brad Stevens     Maine Red Claws\n",
              "2          0  1610612740  ...   Alvin Gentry        No Affiliate\n",
              "3          0  1610612741  ...     Jim Boylen    Windy City Bulls\n",
              "4          0  1610612742  ...  Rick Carlisle       Texas Legends\n",
              "\n",
              "[5 rows x 14 columns]"
            ]
          },
          "metadata": {
            "tags": []
          },
          "execution_count": 17
        }
      ]
    },
    {
      "cell_type": "code",
      "metadata": {
        "colab": {
          "base_uri": "https://localhost:8080/"
        },
        "id": "JCDEVm3iV7k_",
        "outputId": "b104707e-729e-4566-9a31-2bd8a58fad4f"
      },
      "source": [
        "df.info()"
      ],
      "execution_count": 18,
      "outputs": [
        {
          "output_type": "stream",
          "text": [
            "<class 'pandas.core.frame.DataFrame'>\n",
            "RangeIndex: 30 entries, 0 to 29\n",
            "Data columns (total 14 columns):\n",
            " #   Column              Non-Null Count  Dtype  \n",
            "---  ------              --------------  -----  \n",
            " 0   LEAGUE_ID           30 non-null     int64  \n",
            " 1   TEAM_ID             30 non-null     int64  \n",
            " 2   MIN_YEAR            30 non-null     int64  \n",
            " 3   MAX_YEAR            30 non-null     int64  \n",
            " 4   ABBREVIATION        30 non-null     object \n",
            " 5   NICKNAME            30 non-null     object \n",
            " 6   YEARFOUNDED         30 non-null     int64  \n",
            " 7   CITY                30 non-null     object \n",
            " 8   ARENA               30 non-null     object \n",
            " 9   ARENACAPACITY       26 non-null     float64\n",
            " 10  OWNER               30 non-null     object \n",
            " 11  GENERALMANAGER      30 non-null     object \n",
            " 12  HEADCOACH           30 non-null     object \n",
            " 13  DLEAGUEAFFILIATION  30 non-null     object \n",
            "dtypes: float64(1), int64(5), object(8)\n",
            "memory usage: 3.4+ KB\n"
          ],
          "name": "stdout"
        }
      ]
    },
    {
      "cell_type": "code",
      "metadata": {
        "colab": {
          "base_uri": "https://localhost:8080/",
          "height": 301
        },
        "id": "YA_yANQOWGun",
        "outputId": "3309a94d-3833-42c9-de9d-f2a89e279684"
      },
      "source": [
        "df.describe() "
      ],
      "execution_count": 19,
      "outputs": [
        {
          "output_type": "execute_result",
          "data": {
            "text/html": [
              "<div>\n",
              "<style scoped>\n",
              "    .dataframe tbody tr th:only-of-type {\n",
              "        vertical-align: middle;\n",
              "    }\n",
              "\n",
              "    .dataframe tbody tr th {\n",
              "        vertical-align: top;\n",
              "    }\n",
              "\n",
              "    .dataframe thead th {\n",
              "        text-align: right;\n",
              "    }\n",
              "</style>\n",
              "<table border=\"1\" class=\"dataframe\">\n",
              "  <thead>\n",
              "    <tr style=\"text-align: right;\">\n",
              "      <th></th>\n",
              "      <th>LEAGUE_ID</th>\n",
              "      <th>TEAM_ID</th>\n",
              "      <th>MIN_YEAR</th>\n",
              "      <th>MAX_YEAR</th>\n",
              "      <th>YEARFOUNDED</th>\n",
              "      <th>ARENACAPACITY</th>\n",
              "    </tr>\n",
              "  </thead>\n",
              "  <tbody>\n",
              "    <tr>\n",
              "      <th>count</th>\n",
              "      <td>30.0</td>\n",
              "      <td>3.000000e+01</td>\n",
              "      <td>30.000000</td>\n",
              "      <td>30.0</td>\n",
              "      <td>30.000000</td>\n",
              "      <td>26.000000</td>\n",
              "    </tr>\n",
              "    <tr>\n",
              "      <th>mean</th>\n",
              "      <td>0.0</td>\n",
              "      <td>1.610613e+09</td>\n",
              "      <td>1969.700000</td>\n",
              "      <td>2019.0</td>\n",
              "      <td>1969.700000</td>\n",
              "      <td>18553.307692</td>\n",
              "    </tr>\n",
              "    <tr>\n",
              "      <th>std</th>\n",
              "      <td>0.0</td>\n",
              "      <td>8.803408e+00</td>\n",
              "      <td>16.698441</td>\n",
              "      <td>0.0</td>\n",
              "      <td>16.698441</td>\n",
              "      <td>3916.923362</td>\n",
              "    </tr>\n",
              "    <tr>\n",
              "      <th>min</th>\n",
              "      <td>0.0</td>\n",
              "      <td>1.610613e+09</td>\n",
              "      <td>1946.000000</td>\n",
              "      <td>2019.0</td>\n",
              "      <td>1946.000000</td>\n",
              "      <td>0.000000</td>\n",
              "    </tr>\n",
              "    <tr>\n",
              "      <th>25%</th>\n",
              "      <td>0.0</td>\n",
              "      <td>1.610613e+09</td>\n",
              "      <td>1952.000000</td>\n",
              "      <td>2019.0</td>\n",
              "      <td>1952.000000</td>\n",
              "      <td>18641.500000</td>\n",
              "    </tr>\n",
              "    <tr>\n",
              "      <th>50%</th>\n",
              "      <td>0.0</td>\n",
              "      <td>1.610613e+09</td>\n",
              "      <td>1970.000000</td>\n",
              "      <td>2019.0</td>\n",
              "      <td>1970.000000</td>\n",
              "      <td>19131.000000</td>\n",
              "    </tr>\n",
              "    <tr>\n",
              "      <th>75%</th>\n",
              "      <td>0.0</td>\n",
              "      <td>1.610613e+09</td>\n",
              "      <td>1979.000000</td>\n",
              "      <td>2019.0</td>\n",
              "      <td>1979.000000</td>\n",
              "      <td>19790.750000</td>\n",
              "    </tr>\n",
              "    <tr>\n",
              "      <th>max</th>\n",
              "      <td>0.0</td>\n",
              "      <td>1.610613e+09</td>\n",
              "      <td>2002.000000</td>\n",
              "      <td>2019.0</td>\n",
              "      <td>2002.000000</td>\n",
              "      <td>21711.000000</td>\n",
              "    </tr>\n",
              "  </tbody>\n",
              "</table>\n",
              "</div>"
            ],
            "text/plain": [
              "       LEAGUE_ID       TEAM_ID  ...  YEARFOUNDED  ARENACAPACITY\n",
              "count       30.0  3.000000e+01  ...    30.000000      26.000000\n",
              "mean         0.0  1.610613e+09  ...  1969.700000   18553.307692\n",
              "std          0.0  8.803408e+00  ...    16.698441    3916.923362\n",
              "min          0.0  1.610613e+09  ...  1946.000000       0.000000\n",
              "25%          0.0  1.610613e+09  ...  1952.000000   18641.500000\n",
              "50%          0.0  1.610613e+09  ...  1970.000000   19131.000000\n",
              "75%          0.0  1.610613e+09  ...  1979.000000   19790.750000\n",
              "max          0.0  1.610613e+09  ...  2002.000000   21711.000000\n",
              "\n",
              "[8 rows x 6 columns]"
            ]
          },
          "metadata": {
            "tags": []
          },
          "execution_count": 19
        }
      ]
    },
    {
      "cell_type": "code",
      "metadata": {
        "colab": {
          "base_uri": "https://localhost:8080/"
        },
        "id": "7HvJFciCXVq-",
        "outputId": "b8c2787c-b805-4da7-c1d8-8fa010a29259"
      },
      "source": [
        "df.isnull().sum()"
      ],
      "execution_count": 20,
      "outputs": [
        {
          "output_type": "execute_result",
          "data": {
            "text/plain": [
              "LEAGUE_ID             0\n",
              "TEAM_ID               0\n",
              "MIN_YEAR              0\n",
              "MAX_YEAR              0\n",
              "ABBREVIATION          0\n",
              "NICKNAME              0\n",
              "YEARFOUNDED           0\n",
              "CITY                  0\n",
              "ARENA                 0\n",
              "ARENACAPACITY         4\n",
              "OWNER                 0\n",
              "GENERALMANAGER        0\n",
              "HEADCOACH             0\n",
              "DLEAGUEAFFILIATION    0\n",
              "dtype: int64"
            ]
          },
          "metadata": {
            "tags": []
          },
          "execution_count": 20
        }
      ]
    },
    {
      "cell_type": "code",
      "metadata": {
        "id": "o5xY_bF0Xq4_"
      },
      "source": [
        ""
      ],
      "execution_count": null,
      "outputs": []
    }
  ]
}