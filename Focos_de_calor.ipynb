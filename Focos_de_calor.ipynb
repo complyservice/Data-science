{
  "nbformat": 4,
  "nbformat_minor": 0,
  "metadata": {
    "colab": {
      "name": "Focos_de_calor.ipynb",
      "provenance": [],
      "authorship_tag": "ABX9TyNw4z+hORL3HiwxJ9E/hB8L",
      "include_colab_link": true
    },
    "kernelspec": {
      "name": "python3",
      "display_name": "Python 3"
    }
  },
  "cells": [
    {
      "cell_type": "markdown",
      "metadata": {
        "id": "view-in-github",
        "colab_type": "text"
      },
      "source": [
        "<a href=\"https://colab.research.google.com/github/complyservice/Data-science/blob/main/Focos_de_calor.ipynb\" target=\"_parent\"><img src=\"https://colab.research.google.com/assets/colab-badge.svg\" alt=\"Open In Colab\"/></a>"
      ]
    },
    {
      "cell_type": "markdown",
      "metadata": {
        "id": "qyLmj1upWVjq"
      },
      "source": [
        ""
      ]
    },
    {
      "cell_type": "markdown",
      "metadata": {
        "id": "M7dI2k6AWabE"
      },
      "source": [
        "Analise focos de calor 1998 a 2019"
      ]
    },
    {
      "cell_type": "code",
      "metadata": {
        "id": "2m1RG-u0WmtO"
      },
      "source": [
        "import pandas as pd "
      ],
      "execution_count": 1,
      "outputs": []
    },
    {
      "cell_type": "code",
      "metadata": {
        "id": "zngleZxZW7RL"
      },
      "source": [
        "df = pd.read_excel('focos_calor_1998_2019.xlsx')"
      ],
      "execution_count": 2,
      "outputs": []
    },
    {
      "cell_type": "code",
      "metadata": {
        "colab": {
          "base_uri": "https://localhost:8080/"
        },
        "id": "lY-oPMeQXzSR",
        "outputId": "59134b6d-2d93-4e05-f0b1-e12bc35e489e"
      },
      "source": [
        "df.shape"
      ],
      "execution_count": 3,
      "outputs": [
        {
          "output_type": "execute_result",
          "data": {
            "text/plain": [
              "(325, 4)"
            ]
          },
          "metadata": {
            "tags": []
          },
          "execution_count": 3
        }
      ]
    },
    {
      "cell_type": "code",
      "metadata": {
        "colab": {
          "base_uri": "https://localhost:8080/",
          "height": 206
        },
        "id": "476RAHxMX5yd",
        "outputId": "ed5897b9-17d8-4386-fba4-9a6f97d27c77"
      },
      "source": [
        "df.head()"
      ],
      "execution_count": 4,
      "outputs": [
        {
          "output_type": "execute_result",
          "data": {
            "text/html": [
              "<div>\n",
              "<style scoped>\n",
              "    .dataframe tbody tr th:only-of-type {\n",
              "        vertical-align: middle;\n",
              "    }\n",
              "\n",
              "    .dataframe tbody tr th {\n",
              "        vertical-align: top;\n",
              "    }\n",
              "\n",
              "    .dataframe thead th {\n",
              "        text-align: right;\n",
              "    }\n",
              "</style>\n",
              "<table border=\"1\" class=\"dataframe\">\n",
              "  <thead>\n",
              "    <tr style=\"text-align: right;\">\n",
              "      <th></th>\n",
              "      <th>Ano</th>\n",
              "      <th>Mês</th>\n",
              "      <th>Número</th>\n",
              "      <th>Período</th>\n",
              "    </tr>\n",
              "  </thead>\n",
              "  <tbody>\n",
              "    <tr>\n",
              "      <th>0</th>\n",
              "      <td>1998</td>\n",
              "      <td>Janeiro</td>\n",
              "      <td>0</td>\n",
              "      <td>1998-01-01 00:00:00</td>\n",
              "    </tr>\n",
              "    <tr>\n",
              "      <th>1</th>\n",
              "      <td>1999</td>\n",
              "      <td>Janeiro</td>\n",
              "      <td>1081</td>\n",
              "      <td>1999-01-01 00:00:00</td>\n",
              "    </tr>\n",
              "    <tr>\n",
              "      <th>2</th>\n",
              "      <td>2000</td>\n",
              "      <td>Janeiro</td>\n",
              "      <td>778</td>\n",
              "      <td>2000-01-01 00:00:00</td>\n",
              "    </tr>\n",
              "    <tr>\n",
              "      <th>3</th>\n",
              "      <td>2001</td>\n",
              "      <td>Janeiro</td>\n",
              "      <td>547</td>\n",
              "      <td>2001-01-01 00:00:00</td>\n",
              "    </tr>\n",
              "    <tr>\n",
              "      <th>4</th>\n",
              "      <td>2002</td>\n",
              "      <td>Janeiro</td>\n",
              "      <td>1653</td>\n",
              "      <td>2002-01-01 00:00:00</td>\n",
              "    </tr>\n",
              "  </tbody>\n",
              "</table>\n",
              "</div>"
            ],
            "text/plain": [
              "    Ano      Mês  Número              Período\n",
              "0  1998  Janeiro       0  1998-01-01 00:00:00\n",
              "1  1999  Janeiro    1081  1999-01-01 00:00:00\n",
              "2  2000  Janeiro     778  2000-01-01 00:00:00\n",
              "3  2001  Janeiro     547  2001-01-01 00:00:00\n",
              "4  2002  Janeiro    1653  2002-01-01 00:00:00"
            ]
          },
          "metadata": {
            "tags": []
          },
          "execution_count": 4
        }
      ]
    },
    {
      "cell_type": "code",
      "metadata": {
        "colab": {
          "base_uri": "https://localhost:8080/"
        },
        "id": "oWu1hgVQYPmF",
        "outputId": "41af7f3c-bf0e-4c8a-d6ad-470d0bb666a5"
      },
      "source": [
        "df.info()"
      ],
      "execution_count": 5,
      "outputs": [
        {
          "output_type": "stream",
          "text": [
            "<class 'pandas.core.frame.DataFrame'>\n",
            "RangeIndex: 325 entries, 0 to 324\n",
            "Data columns (total 4 columns):\n",
            " #   Column   Non-Null Count  Dtype \n",
            "---  ------   --------------  ----- \n",
            " 0   Ano      325 non-null    object\n",
            " 1   Mês      325 non-null    object\n",
            " 2   Número   325 non-null    int64 \n",
            " 3   Período  325 non-null    object\n",
            "dtypes: int64(1), object(3)\n",
            "memory usage: 10.3+ KB\n"
          ],
          "name": "stdout"
        }
      ]
    },
    {
      "cell_type": "markdown",
      "metadata": {
        "id": "UqZVq2EEaPcC"
      },
      "source": [
        "#Analise inicial"
      ]
    },
    {
      "cell_type": "markdown",
      "metadata": {
        "id": "KcATOKiwakUS"
      },
      "source": [
        "# Qual a maior quantidade de focos de calor"
      ]
    },
    {
      "cell_type": "code",
      "metadata": {
        "colab": {
          "base_uri": "https://localhost:8080/",
          "height": 112
        },
        "id": "kcKFbbEybHeQ",
        "outputId": "3bad91bd-8d3e-4e3f-91a3-c49bc032cecb"
      },
      "source": [
        "df[df['Número'] == df['Número'].max ()]"
      ],
      "execution_count": 8,
      "outputs": [
        {
          "output_type": "execute_result",
          "data": {
            "text/html": [
              "<div>\n",
              "<style scoped>\n",
              "    .dataframe tbody tr th:only-of-type {\n",
              "        vertical-align: middle;\n",
              "    }\n",
              "\n",
              "    .dataframe tbody tr th {\n",
              "        vertical-align: top;\n",
              "    }\n",
              "\n",
              "    .dataframe thead th {\n",
              "        text-align: right;\n",
              "    }\n",
              "</style>\n",
              "<table border=\"1\" class=\"dataframe\">\n",
              "  <thead>\n",
              "    <tr style=\"text-align: right;\">\n",
              "      <th></th>\n",
              "      <th>Ano</th>\n",
              "      <th>Mês</th>\n",
              "      <th>Número</th>\n",
              "      <th>Período</th>\n",
              "    </tr>\n",
              "  </thead>\n",
              "  <tbody>\n",
              "    <tr>\n",
              "      <th>309</th>\n",
              "      <td>2007</td>\n",
              "      <td>Total</td>\n",
              "      <td>394004</td>\n",
              "      <td>2007-12-01 00:00:00</td>\n",
              "    </tr>\n",
              "    <tr>\n",
              "      <th>322</th>\n",
              "      <td>Máximo</td>\n",
              "      <td>Total</td>\n",
              "      <td>394004</td>\n",
              "      <td>Máximo</td>\n",
              "    </tr>\n",
              "  </tbody>\n",
              "</table>\n",
              "</div>"
            ],
            "text/plain": [
              "        Ano    Mês  Número              Período\n",
              "309    2007  Total  394004  2007-12-01 00:00:00\n",
              "322  Máximo  Total  394004               Máximo"
            ]
          },
          "metadata": {
            "tags": []
          },
          "execution_count": 8
        }
      ]
    },
    {
      "cell_type": "markdown",
      "metadata": {
        "id": "0fdXsoljdIlM"
      },
      "source": [
        "# Eliminando linhas indesejaveis"
      ]
    },
    {
      "cell_type": "markdown",
      "metadata": {
        "id": "9VeDnbZzdU59"
      },
      "source": [
        "Manter todas as linhas onde Mes != 'Total'"
      ]
    },
    {
      "cell_type": "code",
      "metadata": {
        "id": "ISO4LePPcD22"
      },
      "source": [
        "df = df[df['Ano'] != 'Máximo']\n"
      ],
      "execution_count": 14,
      "outputs": []
    },
    {
      "cell_type": "code",
      "metadata": {
        "colab": {
          "base_uri": "https://localhost:8080/",
          "height": 81
        },
        "id": "XSS4gePffzoW",
        "outputId": "0222b3f9-9bf4-4dde-e03c-6ed79ba82f6b"
      },
      "source": [
        "df[df['Número']== df ['Número'].max()]"
      ],
      "execution_count": 15,
      "outputs": [
        {
          "output_type": "execute_result",
          "data": {
            "text/html": [
              "<div>\n",
              "<style scoped>\n",
              "    .dataframe tbody tr th:only-of-type {\n",
              "        vertical-align: middle;\n",
              "    }\n",
              "\n",
              "    .dataframe tbody tr th {\n",
              "        vertical-align: top;\n",
              "    }\n",
              "\n",
              "    .dataframe thead th {\n",
              "        text-align: right;\n",
              "    }\n",
              "</style>\n",
              "<table border=\"1\" class=\"dataframe\">\n",
              "  <thead>\n",
              "    <tr style=\"text-align: right;\">\n",
              "      <th></th>\n",
              "      <th>Ano</th>\n",
              "      <th>Mês</th>\n",
              "      <th>Número</th>\n",
              "      <th>Período</th>\n",
              "    </tr>\n",
              "  </thead>\n",
              "  <tbody>\n",
              "    <tr>\n",
              "      <th>309</th>\n",
              "      <td>2007</td>\n",
              "      <td>Total</td>\n",
              "      <td>394004</td>\n",
              "      <td>2007-12-01 00:00:00</td>\n",
              "    </tr>\n",
              "  </tbody>\n",
              "</table>\n",
              "</div>"
            ],
            "text/plain": [
              "      Ano    Mês  Número              Período\n",
              "309  2007  Total  394004  2007-12-01 00:00:00"
            ]
          },
          "metadata": {
            "tags": []
          },
          "execution_count": 15
        }
      ]
    },
    {
      "cell_type": "code",
      "metadata": {
        "id": "fHLbR4CZicLL"
      },
      "source": [
        "df_2007 = df[df['Ano'] == 2007]"
      ],
      "execution_count": 16,
      "outputs": []
    },
    {
      "cell_type": "code",
      "metadata": {
        "colab": {
          "base_uri": "https://localhost:8080/",
          "height": 296
        },
        "id": "7UplManajKta",
        "outputId": "d59118b4-34cd-4f2b-a8ce-638769bffcc0"
      },
      "source": [
        "df_2007.plot(x='Mês', y='Número')"
      ],
      "execution_count": 17,
      "outputs": [
        {
          "output_type": "execute_result",
          "data": {
            "text/plain": [
              "<matplotlib.axes._subplots.AxesSubplot at 0x7fe50df7a150>"
            ]
          },
          "metadata": {
            "tags": []
          },
          "execution_count": 17
        },
        {
          "output_type": "display_data",
          "data": {
            "image/png": "[encoded data removed]",
            "text/plain": [
              "<Figure size 432x288 with 1 Axes>"
            ]
          },
          "metadata": {
            "tags": [],
            "needs_background": "light"
          }
        }
      ]
    },
    {
      "cell_type": "code",
      "metadata": {
        "colab": {
          "base_uri": "https://localhost:8080/",
          "height": 338
        },
        "id": "glt_NyYojx87",
        "outputId": "2c30345d-6edf-45e8-b1cf-1fe7baf0819d"
      },
      "source": [
        "df_2007.plot.bar(x='Mês', y='Número')"
      ],
      "execution_count": 18,
      "outputs": [
        {
          "output_type": "execute_result",
          "data": {
            "text/plain": [
              "<matplotlib.axes._subplots.AxesSubplot at 0x7fe50d4503d0>"
            ]
          },
          "metadata": {
            "tags": []
          },
          "execution_count": 18
        },
        {
          "output_type": "display_data",
          "data": {
            "image/png": "[encoded data removed]",
            "text/plain": [
              "<Figure size 432x288 with 1 Axes>"
            ]
          },
          "metadata": {
            "tags": [],
            "needs_background": "light"
          }
        }
      ]
    },
    {
      "cell_type": "code",
      "metadata": {
        "id": "GJTcTpuKmKeW"
      },
      "source": [
        "import matplotlib.pyplot as plt"
      ],
      "execution_count": 19,
      "outputs": []
    },
    {
      "cell_type": "code",
      "metadata": {
        "colab": {
          "base_uri": "https://localhost:8080/",
          "height": 282
        },
        "id": "GwCkDt9imckQ",
        "outputId": "dd6113f3-3702-46fc-8845-301451636524"
      },
      "source": [
        "plt.plot('Mês','Número',data=df[df['Ano']== 2016] , label ='2016' )\n",
        "plt.plot('Mês','Número',data=df[df['Ano']== 2017] , label ='2017')\n",
        "plt.plot('Mês','Número',data=df[df['Ano']== 2018] , label ='2018')"
      ],
      "execution_count": 21,
      "outputs": [
        {
          "output_type": "execute_result",
          "data": {
            "text/plain": [
              "[<matplotlib.lines.Line2D at 0x7fe50ce1c8d0>]"
            ]
          },
          "metadata": {
            "tags": []
          },
          "execution_count": 21
        },
        {
          "output_type": "display_data",
          "data": {
            "image/png": "[encoded data removed]",
            "text/plain": [
              "<Figure size 432x288 with 1 Axes>"
            ]
          },
          "metadata": {
            "tags": [],
            "needs_background": "light"
          }
        }
      ]
    },
    {
      "cell_type": "code",
      "metadata": {
        "id": "akHJe0BBozPx"
      },
      "source": [
        ""
      ],
      "execution_count": null,
      "outputs": []
    }
  ]
}